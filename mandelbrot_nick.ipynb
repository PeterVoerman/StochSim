{
 "cells": [
  {
   "cell_type": "code",
   "execution_count": 1,
   "metadata": {},
   "outputs": [],
   "source": [
    "import matplotlib.pyplot as plt\n",
    "import numpy as np\n",
    "import numpy.random as rand\n",
    "import scipy.optimize"
   ]
  },
  {
   "cell_type": "code",
   "execution_count": 2,
   "metadata": {},
   "outputs": [],
   "source": [
    "def mandelbrot(xmin, xmax, ymin, ymax, xiter, yiter, limit):\n",
    "    a_step = 0\n",
    "\n",
    "    pixel_list = np.ndarray((xiter + 2, yiter + 2))\n",
    "\n",
    "    for a in np.linspace(xmin, xmax, xiter):\n",
    "        a_step += 1\n",
    "        b_step = 0\n",
    "        for b in np.linspace(ymin, ymax, yiter):\n",
    "            b_step += 1\n",
    "            z_0 = complex(a, b)\n",
    "            z = z_0\n",
    "            counter = 0\n",
    "\n",
    "            while abs(z) < 2 and counter < limit:\n",
    "                z = z ** 2 + z_0\n",
    "                counter += 1\n",
    "                \n",
    "            pixel_list[b_step][a_step] = counter\n",
    "    \n",
    "\n",
    "    return pixel_list\n",
    "\n"
   ]
  },
  {
   "cell_type": "code",
   "execution_count": 3,
   "metadata": {},
   "outputs": [
    {
     "data": {
      "application/vnd.jupyter.widget-view+json": {
       "model_id": "d711b6bd92b044db922f82ba16638a87",
       "version_major": 2,
       "version_minor": 0
      },
      "text/plain": [
       "Canvas(toolbar=Toolbar(toolitems=[('Home', 'Reset original view', 'home', 'home'), ('Back', 'Back to previous …"
      ]
     },
     "metadata": {},
     "output_type": "display_data"
    }
   ],
   "source": [
    "%matplotlib widget\n",
    "def plot_maker():\n",
    "    \n",
    "    a_step = -1\n",
    "    b_step = -1\n",
    "    xmin = -2\n",
    "    xmax = 0.5\n",
    "    ymin = -2\n",
    "    ymax = 2\n",
    "    xiter = 600\n",
    "    yiter = 600\n",
    "    limit = 250\n",
    "\n",
    "    pixel_list = np.zeros((xiter+1, yiter+1))\n",
    "\n",
    "    for a in np.linspace(xmin, xmax, xiter):\n",
    "        a_step += 1\n",
    "        b_step = 0\n",
    "        for b in np.linspace(ymin, ymax, yiter):\n",
    "            b_step += 1\n",
    "            z_0 = complex(a, b)\n",
    "            z = z_0\n",
    "            counter = 0\n",
    "\n",
    "            while abs(z) < 2 and counter < 250:\n",
    "                z = z ** 2 + z_0\n",
    "                counter += 1\n",
    "                \n",
    "            pixel_list[b_step][a_step] = counter\n",
    "\n",
    "    nticks = 5\n",
    "    plt.title(\"Mandelbrot set\")\n",
    "    plt.xticks(ticks=np.linspace(0, xiter, nticks), labels=np.linspace(xmin, xmax, nticks))\n",
    "    plt.yticks(ticks=np.linspace(0, yiter, nticks), labels=np.linspace(ymin, ymax, nticks))\n",
    "\n",
    "    plt.imshow(pixel_list, cmap='RdBu')\n",
    "    plt.show()\n",
    "\n",
    "plot_maker()"
   ]
  },
  {
   "cell_type": "code",
   "execution_count": 4,
   "metadata": {},
   "outputs": [],
   "source": [
    "xmin = -2\n",
    "xmax = 0.5\n",
    "ymin = -2\n",
    "ymax = 2\n",
    "xiter = 2000\n",
    "yiter = 2000\n",
    "limit = 250\n",
    "\n",
    "pixel_list = mandelbrot(xmin, xmax, ymin, ymax, xiter, yiter, limit)\n"
   ]
  },
  {
   "cell_type": "code",
   "execution_count": 10,
   "metadata": {},
   "outputs": [
    {
     "data": {
      "image/png": "[encoded data removed]",
      "text/plain": [
       "<Figure size 432x288 with 1 Axes>"
      ]
     },
     "metadata": {
      "needs_background": "light"
     },
     "output_type": "display_data"
    }
   ],
   "source": [
    "%matplotlib inline\n",
    "plt.imshow(pixel_list, cmap='RdBu')\n",
    "plt.show()\n"
   ]
  },
  {
   "cell_type": "code",
   "execution_count": 2,
   "metadata": {},
   "outputs": [],
   "source": [
    "EXPECTED_AREA = 1.506484"
   ]
  },
  {
   "cell_type": "code",
   "execution_count": 5,
   "metadata": {},
   "outputs": [],
   "source": [
    "def check_converge(z_0, treshold=2, max_iterations=25):\n",
    "    \"\"\"\n",
    "    Checks if the complex number z_0 converges within the max_iterations.\n",
    "    \"\"\"\n",
    "\n",
    "    z = z_0\n",
    "    counter = 0\n",
    "    while True:\n",
    "        z = z ** 2 + z_0\n",
    "        counter += 1\n",
    "\n",
    "        if abs(z) > 2:\n",
    "            return False\n",
    "        if counter > max_iterations:\n",
    "            return True\n",
    "\n",
    "def determine_area(i = 25, s=10000, sample_method=\"pure\"):\n",
    "    \"\"\"\n",
    "    Determine the area of the mandelbrot set.\n",
    "\n",
    "    Parameters:\n",
    "    i: int, Max number of iterations\n",
    "    s: int, The number of sample points.\n",
    "    sample_method: string, options are:\n",
    "        'pure': pure random sampling,\n",
    "        'hypercube': hypercube sampling,\n",
    "        'orthogonal': orthogonal sampling\n",
    "    \"\"\"\n",
    "\n",
    "    xmin = -2\n",
    "    xmax = 1\n",
    "    ymin = -2\n",
    "    ymax = 2\n",
    "    bounding_box_area = (xmax - xmin) * (ymax - ymin)\n",
    "\n",
    "    if sample_method == \"pure\":\n",
    "        Z = generate_sample_points_pure_random(s, xmin=xmin, xmax=xmax, ymin=ymin, ymax=ymax)\n",
    "    elif sample_method == \"hypercube\":\n",
    "        Z = generate_sample_points_hypercube(s, xmin=xmin, xmax=xmax, ymin=ymin, ymax=ymax)\n",
    "    elif sample_method == \"orthogonal\":\n",
    "        Z = generate_sample_points_orthogonal(s, xmin=xmin, xmax=xmax, ymin=ymin, ymax=ymax)\n",
    "\n",
    "    Z0 = Z\n",
    "\n",
    "    N = np.zeros(s)\n",
    "\n",
    "    for _ in range(i):\n",
    "        Z = np.where(abs(Z) < 2, Z ** 2 + Z0, 100)\n",
    "\n",
    "    N[Z != 100] = 1\n",
    "\n",
    "    n_good_points = sum(N)\n",
    "    \n",
    "    return bounding_box_area * (n_good_points / s)\n",
    "\n",
    "def plot_i_s_contour(i_list, s_list, log=False):\n",
    "    \"\"\"\n",
    "    Plots the difference between the expected and calculated area for different values for i and s. \n",
    "    i is the maximum number of iterations and s is the number of samples. \n",
    "    \"\"\"\n",
    "\n",
    "    total_evaluations = len(i_list) * len(s_list)\n",
    "    n_evaluations = 0\n",
    "\n",
    "    data = []\n",
    "    for i in i_list:\n",
    "\n",
    "        results = []\n",
    "        for s in s_list:\n",
    "            results.append(determine_area(i=i, s=s) - EXPECTED_AREA)\n",
    "            n_evaluations += 1\n",
    "\n",
    "            if log and n_evaluations % 10 == 0:\n",
    "                print(f\"Progress: {n_evaluations/total_evaluations * 100:0f}%\", end=\"\\r\")\n",
    "        \n",
    "        data.append(results)\n",
    "\n",
    "    contour = plt.contourf(s_list, i_list, data, 10, cmap=\"PuBuGn_r\")\n",
    "    \n",
    "    colorbar = plt.colorbar(contour)\n",
    "    colorbar.set_label(\"Difference between expected area\")\n",
    "\n",
    "    plt.xlabel(\"Samples\")\n",
    "    plt.ylabel(\"Max iterations\")\n",
    "\n",
    "    plt.xscale(\"log\")\n",
    "    plt.yscale(\"log\")\n",
    "    plt.show()\n",
    "\n",
    "def plot_i_s_variance(i_list, s_list, nruns=10, log=False):\n",
    "    \"\"\"\n",
    "    Plots the variance of the difference between the expected and calculated area for different values for i and s. \n",
    "    i is the maximum number of iterations and s is the number of samples. \n",
    "    \"\"\"\n",
    "    \n",
    "    total_evaluations = len(i_list) * len(s_list) * nruns\n",
    "    n_evaluations = 0\n",
    "\n",
    "    data = []\n",
    "    for i in i_list:\n",
    "\n",
    "        results = []\n",
    "        for s in s_list:\n",
    "\n",
    "            run_results = []\n",
    "            for run in range(nruns):\n",
    "                run_results.append(determine_area(i=i, s=s))\n",
    "                n_evaluations += 1\n",
    "\n",
    "                if log and n_evaluations % 10 == 0:\n",
    "                    print(f\"Progress: {n_evaluations/total_evaluations * 100:1f}%\", end=\"\\r\")\n",
    "\n",
    "            results.append(np.var(run_results))\n",
    "        \n",
    "        data.append(results)\n",
    "\n",
    "    contour = plt.contourf(s_list, i_list, data, 10, cmap=\"PuBuGn_r\")\n",
    "    \n",
    "    colorbar = plt.colorbar(contour)\n",
    "    colorbar.set_label(\"Variance in area\")\n",
    "\n",
    "    plt.xlabel(\"Samples\")\n",
    "    plt.ylabel(\"Max iterations\")\n",
    "\n",
    "    plt.xscale(\"log\")\n",
    "    plt.yscale(\"log\")\n",
    "    plt.show()\n",
    "\n",
    "def generate_sample_points_pure_random(s=10000, xmin=-2, xmax=1, ymin=-2, ymax=2):\n",
    "    \n",
    "    X = rand.rand(s) * (xmax - xmin) + xmin\n",
    "    Y = rand.rand(s) * (ymax - ymin) + ymin\n",
    "\n",
    "    return X + Y * 1j\n",
    "\n",
    "def generate_sample_points_hypercube(s=10000, xmin=-2, xmax=1, ymin=-2, ymax=2):\n",
    "    # TODO\n",
    "\n",
    "    pass\n",
    "\n",
    "def generate_sample_points_orthogonal(s=10000, xmin=-2, xmax=1, ymin=-2, ymax=2):\n",
    "    # TODO\n",
    "\n",
    "    pass\n",
    "\n",
    "def plot_j_dependance(i = 25, s=10000, sample_method=\"pure\"):\n",
    "\n",
    "    expected_area = determine_area(i=i, s=s)\n",
    "\n",
    "    area_differences = []\n",
    "    js = []\n",
    "    for j in range(1, i):\n",
    "        js.append(j)\n",
    "        area_differences.append(determine_area(i=j, s=s, sample_method=sample_method) - expected_area)\n",
    "\n",
    "    plt.plot(js, area_differences)\n",
    "    plt.ylabel(\"Area difference\")\n",
    "    plt.xlabel(\"j\")\n",
    "    plt.show()\n",
    "\n",
    "\n",
    "def calc_error(i, s):\n",
    "\n",
    "    return determine_area(i, s) - EXPECTED_AREA\n",
    "\n",
    "def get_s_with_comparable_error(i):\n",
    "    \"\"\"\n",
    "    Gets a s value, which has comparable error as the error in i.\n",
    "    \"\"\"\n",
    "\n",
    "    i_error = calc_error(i, 1000000)\n",
    "\n",
    "    s_min, s_max = find_s_range(i_error)\n",
    "\n",
    "    return find_s(i_error, s_min, s_max)\n",
    "\n",
    "def find_s_range(i_error, s_guess=1000):\n",
    "    \"\"\"\n",
    "    Find a broad range at where the s error is comparable with the i error.\n",
    "\n",
    "    Returns:\n",
    "        s_min: lowerbound\n",
    "        s_max: upperbound\n",
    "    \"\"\"\n",
    "\n",
    "    initial_error = determine_area(100000)\n",
    "\n",
    "\n"
   ]
  },
  {
   "cell_type": "code",
   "execution_count": null,
   "metadata": {},
   "outputs": [],
   "source": [
    "%matplotlib inline\n",
    "\n",
    "i_list = np.logspace(0, 3, 3, dtype=int)\n",
    "s_list = np.logspace(1, 5, 3, dtype=int)\n",
    "plot_i_s_contour(i_list, s_list, log=True)\n",
    "plot_i_s_variance(i_list, s_list, nruns=3, log=True)"
   ]
  },
  {
   "cell_type": "code",
   "execution_count": 47,
   "metadata": {},
   "outputs": [
    {
     "name": "stdout",
     "output_type": "stream",
     "text": [
      "1: 8.593772e+00\n",
      "10: 5.149160e-01\n",
      "100: 4.184000e-02\n"
     ]
    }
   ],
   "source": [
    "# Calc i error\n",
    "for i in [1, 10, 100, 1000, 10000, 100000]:\n",
    "    print(f\"{i}: {calc_error(i, 1000000):e}\")\n"
   ]
  },
  {
   "cell_type": "code",
   "execution_count": 41,
   "metadata": {},
   "outputs": [
    {
     "name": "stdout",
     "output_type": "stream",
     "text": [
      "1: 2.400943e+00\n",
      "10: 1.011442e+00\n",
      "100: 2.949779e-01\n",
      "1000: 1.028386e-01\n",
      "10000: 2.946552e-02\n",
      "100000: 6.576960e-03\n"
     ]
    }
   ],
   "source": [
    "# Calc s error\n",
    "for s in [1, 10, 100, 1000, 10000, 100000]:\n",
    "\n",
    "    errors = []\n",
    "    for _ in range(100):\n",
    "        errors.append(abs(calc_error(1000, s)) - 0.0042440000000001366)\n",
    "\n",
    "    print(f\"{s}: {sum(errors) / len(errors):e}\")"
   ]
  },
  {
   "cell_type": "markdown",
   "metadata": {},
   "source": [
    "### i error\n",
    "\n",
    "|i     |error                |\n",
    "|------|---------------------|\n",
    "|1     |8.598812000000002e0  |\n",
    "|10    |5.164399999999998e-1 |\n",
    "|100   |3.481999999999963e-2 |\n",
    "|1000  |4.2440000000001366e-3|\n",
    "|10000 |5.24000000000191e-4  |\n",
    "\n",
    "These errors were computed with s=1000000. It is assumed that these are enough samples that the error over s is negligible\n",
    "\n",
    "### s error\n",
    "\n",
    "|s     |error       |\n",
    "|------|------------|\n",
    "|1     |2.400943e+0 |\n",
    "|10    |1.011442e+0 |\n",
    "|100   |2.949779e-1 |\n",
    "|1000  |1.028386e-1 |\n",
    "|10000 |2.946552e-2 |\n",
    "|100000|6.576960e-3 |\n",
    "\n",
    "These errors were computed with i=1000. The error over i is substracted from these results."
   ]
  },
  {
   "cell_type": "code",
   "execution_count": 37,
   "metadata": {},
   "outputs": [
    {
     "data": {
      "image/png": "[encoded data removed]",
      "text/plain": [
       "<Figure size 432x288 with 1 Axes>"
      ]
     },
     "metadata": {
      "needs_background": "light"
     },
     "output_type": "display_data"
    },
    {
     "data": {
      "image/png": "[encoded data removed]",
      "text/plain": [
       "<Figure size 432x288 with 1 Axes>"
      ]
     },
     "metadata": {
      "needs_background": "light"
     },
     "output_type": "display_data"
    }
   ],
   "source": [
    "%matplotlib inline\n",
    "\n",
    "i_values = [1, 10, 100, 1000, 10000]\n",
    "i_errors = [8.598812000000002e0, 5.164399999999998e-1, 3.481999999999963e-2, 4.2440000000001366e-3, 5.24000000000191e-4]\n",
    "\n",
    "s_values = [1, 10, 100, 1000, 10000, 100000]\n",
    "s_errors = [2.400943e+0, 1.011442e+0, 2.949779e-1, 1.028386e-1, 2.946552e-2, 6.576960e-3]\n",
    "\n",
    "def linear_function(x, a=1, b=1):\n",
    "    return a * x + b\n",
    "    \n",
    "def log_function(x, a = 1, c=1):\n",
    "    return c * x ** a\n",
    "\n",
    "def calc_error_fit(values, errors):\n",
    "    \"\"\"\n",
    "    This function finds the fit parameters a and c for the function y = cx ^ a. \n",
    "    It does this by first taking a linear fit against the logarithmic x and y data. \n",
    "    This linear fit is then converted to the logarithmic function.\n",
    "    \"\"\"\n",
    "\n",
    "    popt, pcov = scipy.optimize.curve_fit(linear_function, np.log10(values), np.log10(errors), p0=[1, -1])\n",
    "    a, b = popt[0], popt[1]\n",
    "\n",
    "    c = 10 ** b\n",
    "    return a, c\n",
    "\n",
    "\n",
    "def plot_error(values, errors, title=\"\", xlabel=\"\"):\n",
    "    \n",
    "    a, c = calc_error_fit(values, errors)\n",
    "\n",
    "    # Compute the fitted values back to expected values\n",
    "    y_fit_values = [log_function(value, a=a, c=c) for value in values]\n",
    "    \n",
    "    plt.plot(values, errors, label=\"data\")\n",
    "    plt.plot(values, y_fit_values, label=\"fit\")\n",
    "\n",
    "    plt.xscale(\"log\")\n",
    "    plt.yscale(\"log\")\n",
    "\n",
    "    plt.xlabel(xlabel)\n",
    "    plt.ylabel(\"Error\")\n",
    "\n",
    "    plt.title(title)\n",
    "    plt.legend()\n",
    "    plt.show()\n",
    "\n",
    "\n",
    "plot_error(i_values, i_errors, title=\"i error\", xlabel=\"i\")\n",
    "plot_error(s_values, s_errors, title=\"s error\", xlabel=\"s\")"
   ]
  },
  {
   "cell_type": "code",
   "execution_count": null,
   "metadata": {},
   "outputs": [],
   "source": []
  }
 ],
 "metadata": {
  "interpreter": {
   "hash": "916dbcbb3f70747c44a77c7bcd40155683ae19c65e1c03b4aa3499c5328201f1"
  },
  "kernelspec": {
   "display_name": "Python 3.8.10 64-bit",
   "name": "python3"
  },
  "language_info": {
   "codemirror_mode": {
    "name": "ipython",
    "version": 3
   },
   "file_extension": ".py",
   "mimetype": "text/x-python",
   "name": "python",
   "nbconvert_exporter": "python",
   "pygments_lexer": "ipython3",
   "version": "3.9.4"
  },
  "orig_nbformat": 4
 },
 "nbformat": 4,
 "nbformat_minor": 2
}
