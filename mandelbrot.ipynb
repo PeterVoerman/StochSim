{
 "cells": [
  {
   "cell_type": "code",
   "execution_count": 1,
   "metadata": {},
   "outputs": [],
   "source": [
    "import matplotlib.pyplot as plt\n",
    "import numpy as np\n",
    "import numpy.random as rand\n",
    "\n",
    "\n",
    "\n",
    "def mandelbrot(xmin, xmax, ymin, ymax, xiter, yiter, limit):\n",
    "    a_step = 0\n",
    "\n",
    "    pixel_list = np.ndarray((xiter + 2, yiter + 2))\n",
    "\n",
    "    for a in np.linspace(xmin, xmax, xiter):\n",
    "        a_step += 1\n",
    "        b_step = 0\n",
    "        for b in np.linspace(ymin, ymax, yiter):\n",
    "            b_step += 1\n",
    "            z_0 = complex(a, b)\n",
    "            z = z_0\n",
    "            counter = 0\n",
    "\n",
    "            while abs(z) < 2 and counter < limit:\n",
    "                z = z ** 2 + z_0\n",
    "                counter += 1\n",
    "                \n",
    "            pixel_list[b_step][a_step] = counter\n",
    "    \n",
    "\n",
    "    return pixel_list\n",
    "\n"
   ]
  },
  {
   "cell_type": "code",
   "execution_count": 2,
   "metadata": {},
   "outputs": [],
   "source": [
    "xmin = -2\n",
    "xmax = 0.5\n",
    "ymin = -2\n",
    "ymax = 2\n",
    "xiter = 2000\n",
    "yiter = 2000\n",
    "limit = 250\n",
    "\n",
    "pixel_list = mandelbrot(xmin, xmax, ymin, ymax, xiter, yiter, limit)\n"
   ]
  },
  {
   "cell_type": "code",
   "execution_count": 3,
   "metadata": {},
   "outputs": [
    {
     "data": {
      "image/png": "[encoded data removed]",
      "text/plain": [
       "<Figure size 432x288 with 1 Axes>"
      ]
     },
     "metadata": {
      "needs_background": "light"
     },
     "output_type": "display_data"
    }
   ],
   "source": [
    "%matplotlib inline\n",
    "plt.imshow(pixel_list, cmap='RdBu')\n",
    "plt.show()\n"
   ]
  },
  {
   "cell_type": "code",
   "execution_count": 17,
   "metadata": {},
   "outputs": [],
   "source": [
    "def check_converge(z_0, treshold=2, max_iterations=25):\n",
    "    \"\"\"\n",
    "    Checks if the complex number z_0 converges within the max_iterations.\n",
    "    \"\"\"\n",
    "\n",
    "    z = z_0\n",
    "    counter = 0\n",
    "    while True:\n",
    "        z = z ** 2 + z_0\n",
    "        counter += 1\n",
    "\n",
    "        if abs(z) > 2:\n",
    "            return False\n",
    "        if counter > max_iterations:\n",
    "            return True\n",
    "\n",
    "def determine_area(i = 25, s=10000, sample_method=\"pure\"):\n",
    "    \"\"\"\n",
    "    Determine the area of the mandelbrot set.\n",
    "\n",
    "    Parameters:\n",
    "    i: int, Max number of iterations\n",
    "    s: int, The number of sample points.\n",
    "    sample_method: string, options are:\n",
    "        'pure': pure random sampling,\n",
    "        'hypercube': hypercube sampling,\n",
    "        'orthogonal': orthogonal sampling\n",
    "    \"\"\"\n",
    "\n",
    "    xmin = -2\n",
    "    xmax = 1\n",
    "    ymin = -2\n",
    "    ymax = 2\n",
    "    bounding_box_area = (xmax - xmin) * (ymax - ymin)\n",
    "\n",
    "    if sample_method == \"pure\":\n",
    "        Z = generate_sample_points_pure_random(s, xmin=xmin, xmax=xmax, ymin=ymin, ymax=ymax)\n",
    "    elif sample_method == \"hypercube\":\n",
    "        Z = generate_sample_points_hypercube(s, xmin=xmin, xmax=xmax, ymin=ymin, ymax=ymax)\n",
    "    elif sample_method == \"orthogonal\":\n",
    "        Z = generate_sample_points_orthogonal(s, xmin=xmin, xmax=xmax, ymin=ymin, ymax=ymax)\n",
    "\n",
    "    Z0 = Z\n",
    "\n",
    "    N = np.zeros(s)\n",
    "\n",
    "    for _ in range(i):\n",
    "        Z = np.where(abs(Z) < 2, Z ** 2 + Z0, 100)\n",
    "\n",
    "    N[Z != 100] = 1\n",
    "\n",
    "    n_good_points = sum(N)\n",
    "    \n",
    "    return bounding_box_area * (n_good_points / s)\n",
    "\n",
    "def plot_i_s_contour(i_list, s_list, log=False):\n",
    "    \"\"\"\n",
    "    Plots the difference between the expected and calculated area for different values for i and s. \n",
    "    i is the maximum number of iterations and s is the number of samples. \n",
    "    \"\"\"\n",
    "\n",
    "    total_evaluations = len(i_list) * len(s_list)\n",
    "    n_evaluations = 0\n",
    "\n",
    "    expected_area = 1.506484\n",
    "\n",
    "    data = []\n",
    "    for i in i_list:\n",
    "\n",
    "        results = []\n",
    "        for s in s_list:\n",
    "            results.append(determine_area(i=i, s=s) - expected_area)\n",
    "            n_evaluations += 1\n",
    "\n",
    "            if log and n_evaluations % 10 == 0:\n",
    "                print(f\"Progress: {n_evaluations/total_evaluations * 100:0f}%\", end=\"\\r\")\n",
    "        \n",
    "        data.append(results)\n",
    "\n",
    "    contour = plt.contourf(s_list, i_list, data, 10, cmap=\"PuBuGn_r\")\n",
    "    \n",
    "    colorbar = plt.colorbar(contour)\n",
    "    colorbar.set_label(\"Difference between expected area\")\n",
    "\n",
    "    plt.xlabel(\"Samples\")\n",
    "    plt.ylabel(\"Max iterations\")\n",
    "\n",
    "    plt.xscale(\"log\")\n",
    "    plt.yscale(\"log\")\n",
    "    plt.show()\n",
    "\n",
    "def plot_i_s_variance(i_list, s_list, nruns=10, log=False):\n",
    "    \"\"\"\n",
    "    Plots the variance of the difference between the expected and calculated area for different values for i and s. \n",
    "    i is the maximum number of iterations and s is the number of samples. \n",
    "    \"\"\"\n",
    "    \n",
    "    total_evaluations = len(i_list) * len(s_list) * nruns\n",
    "    n_evaluations = 0\n",
    "\n",
    "    expected_area = 1.506484\n",
    "\n",
    "    data = []\n",
    "    for i in i_list:\n",
    "\n",
    "        results = []\n",
    "        for s in s_list:\n",
    "\n",
    "            run_results = []\n",
    "            for run in range(nruns):\n",
    "                run_results.append(determine_area(i=i, s=s))\n",
    "                n_evaluations += 1\n",
    "\n",
    "                if log and n_evaluations % 10 == 0:\n",
    "                    print(f\"Progress: {n_evaluations/total_evaluations * 100:1f}%\", end=\"\\r\")\n",
    "\n",
    "            results.append(np.var(run_results))\n",
    "        \n",
    "        data.append(results)\n",
    "\n",
    "    contour = plt.contourf(s_list, i_list, data, 10, cmap=\"PuBuGn_r\")\n",
    "    \n",
    "    colorbar = plt.colorbar(contour)\n",
    "    colorbar.set_label(\"Variance in area\")\n",
    "\n",
    "    plt.xlabel(\"Samples\")\n",
    "    plt.ylabel(\"Max iterations\")\n",
    "\n",
    "    plt.xscale(\"log\")\n",
    "    plt.yscale(\"log\")\n",
    "    plt.show()\n",
    "\n",
    "def generate_sample_points_pure_random(s=10000, xmin=-2, xmax=1, ymin=-2, ymax=2):\n",
    "    \n",
    "    X = rand.rand(s) * (xmax - xmin) + xmin\n",
    "    Y = rand.rand(s) * (ymax - ymin) + ymin\n",
    "\n",
    "    return X + Y * 1j\n",
    "\n",
    "def generate_sample_points_hypercube(s=10000, xmin=-2, xmax=1, ymin=-2, ymax=2):\n",
    "    # TODO\n",
    "\n",
    "    pass\n",
    "\n",
    "def generate_sample_points_orthogonal(s=10000, xmin=-2, xmax=1, ymin=-2, ymax=2):\n",
    "    # TODO\n",
    "\n",
    "    pass"
   ]
  },
  {
   "cell_type": "code",
   "execution_count": 18,
   "metadata": {},
   "outputs": [
    {
     "name": "stdout",
     "output_type": "stream",
     "text": []
    },
    {
     "data": {
      "image/png": "[encoded data removed]",
      "text/plain": [
       "<Figure size 432x288 with 2 Axes>"
      ]
     },
     "metadata": {
      "needs_background": "light"
     },
     "output_type": "display_data"
    },
    {
     "name": "stdout",
     "output_type": "stream",
     "text": []
    },
    {
     "data": {
      "image/png": "[encoded data removed]",
      "text/plain": [
       "<Figure size 432x288 with 2 Axes>"
      ]
     },
     "metadata": {
      "needs_background": "light"
     },
     "output_type": "display_data"
    }
   ],
   "source": [
    "%matplotlib inline\n",
    "\n",
    "i_list = np.logspace(0, 3, 3, dtype=int)\n",
    "s_list = np.logspace(1, 5, 3, dtype=int)\n",
    "plot_i_s_contour(i_list, s_list, log=True)\n",
    "plot_i_s_variance(i_list, s_list, nruns=3, log=True)"
   ]
  },
  {
   "cell_type": "code",
   "execution_count": null,
   "metadata": {},
   "outputs": [],
   "source": []
  }
 ],
 "metadata": {
  "interpreter": {
   "hash": "916dbcbb3f70747c44a77c7bcd40155683ae19c65e1c03b4aa3499c5328201f1"
  },
  "kernelspec": {
   "display_name": "Python 3.8.10 64-bit",
   "name": "python3"
  },
  "language_info": {
   "codemirror_mode": {
    "name": "ipython",
    "version": 3
   },
   "file_extension": ".py",
   "mimetype": "text/x-python",
   "name": "python",
   "nbconvert_exporter": "python",
   "pygments_lexer": "ipython3",
   "version": "3.8.10"
  },
  "orig_nbformat": 4
 },
 "nbformat": 4,
 "nbformat_minor": 2
}
